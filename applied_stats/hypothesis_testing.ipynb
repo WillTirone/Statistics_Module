{
 "cells": [
  {
   "cell_type": "code",
   "execution_count": 71,
   "metadata": {},
   "outputs": [],
   "source": [
    "import random as r \n",
    "import numpy as np \n",
    "\n",
    "class gen_test:\n",
    "\n",
    "        def __init__(self, data, H0):\n",
    "            self.data = list(data) \n",
    "            self.H0 = H0\n",
    "            self.results = {}\n",
    "\n",
    "        def run_test(self, n):\n",
    "            self.sample = r.sample(self.data, n)\n",
    "            \n",
    "            #redoing marble example as a base case\n",
    "            self.acceptance_region = [0,4,7,8]\n",
    "            self.rejection_region = [1,2,3,5,6,9,10]\n",
    "            self.sample_count = self.sample.count('R')\n",
    "            \n",
    "            if self.sample_count in self.acceptance_region: \n",
    "                self.decision = f'Do not reject H0. Count is {self.sample_count}'\n",
    "            if self.sample_count in self.rejection_region: \n",
    "                self.decision = f'Reject the H0. Count is {self.sample_count}'\n",
    "\n",
    "            return self.decision"
   ]
  },
  {
   "cell_type": "code",
   "execution_count": 72,
   "metadata": {},
   "outputs": [],
   "source": [
    "data=np.array(['R', 'B', 'R', 'R', 'B', 'R', 'R', 'B', 'R', 'B']) "
   ]
  },
  {
   "cell_type": "code",
   "execution_count": 73,
   "metadata": {},
   "outputs": [],
   "source": [
    "a = gen_test(data, 'R = 3')"
   ]
  },
  {
   "cell_type": "code",
   "execution_count": 82,
   "metadata": {},
   "outputs": [
    {
     "data": {
      "text/plain": [
       "'Reject the H0. Count is 2'"
      ]
     },
     "execution_count": 82,
     "metadata": {},
     "output_type": "execute_result"
    }
   ],
   "source": [
    "a.run_test(n=5)"
   ]
  },
  {
   "cell_type": "code",
   "execution_count": 70,
   "metadata": {},
   "outputs": [
    {
     "name": "stdout",
     "output_type": "stream",
     "text": [
      "hello\n"
     ]
    }
   ],
   "source": [
    "if 4 in a.acceptance_region: \n",
    "    print('hello')"
   ]
  },
  {
   "cell_type": "code",
   "execution_count": null,
   "metadata": {},
   "outputs": [],
   "source": []
  }
 ],
 "metadata": {
  "kernelspec": {
   "display_name": "Python 3",
   "language": "python",
   "name": "python3"
  },
  "language_info": {
   "codemirror_mode": {
    "name": "ipython",
    "version": 3
   },
   "file_extension": ".py",
   "mimetype": "text/x-python",
   "name": "python",
   "nbconvert_exporter": "python",
   "pygments_lexer": "ipython3",
   "version": "3.8.5"
  }
 },
 "nbformat": 4,
 "nbformat_minor": 4
}
